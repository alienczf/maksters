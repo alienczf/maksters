{
 "cells": [
  {
   "cell_type": "code",
   "execution_count": null,
   "id": "0ee19f5b-a196-41c8-b07d-fa1366731bf6",
   "metadata": {},
   "outputs": [],
   "source": [
    "import redis\n",
    "# Connect to a local redis instance\n",
    "r = redis.Redis(host='localhost', port=6379, db=0)"
   ]
  },
  {
   "cell_type": "code",
   "execution_count": null,
   "id": "bf0619c8-e017-4d27-94be-c5d08fc9c620",
   "metadata": {},
   "outputs": [],
   "source": [
    "event = {\"eventType\": \"purchase\", \"amount\": 5, \"item_id\": \"XXX\"}\n",
    "r.xadd(\"stream_key\", event)\n",
    "# the `*` means that redis generates and event id automatically"
   ]
  }
 ],
 "metadata": {
  "kernelspec": {
   "display_name": "Python 3",
   "language": "python",
   "name": "python3"
  },
  "language_info": {
   "codemirror_mode": {
    "name": "ipython",
    "version": 3
   },
   "file_extension": ".py",
   "mimetype": "text/x-python",
   "name": "python",
   "nbconvert_exporter": "python",
   "pygments_lexer": "ipython3",
   "version": "3.6.8"
  }
 },
 "nbformat": 4,
 "nbformat_minor": 5
}

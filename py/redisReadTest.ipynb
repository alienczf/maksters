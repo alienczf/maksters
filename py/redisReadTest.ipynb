{
 "cells": [
  {
   "cell_type": "code",
   "execution_count": null,
   "id": "a0d21ef8-a66d-4224-af41-2b28ae2708fc",
   "metadata": {},
   "outputs": [],
   "source": [
    "import redis\n",
    "# Connect to a local redis instance\n",
    "r = redis.Redis(host='localhost', port=6379, db=0)"
   ]
  },
  {
   "cell_type": "code",
   "execution_count": null,
   "id": "1c7587a2-5849-4b83-9d73-8358b9f81e58",
   "metadata": {},
   "outputs": [],
   "source": [
    "last_id = '$' # `$` means last new messages\n",
    "while True:\n",
    "    events = r.xread({\"stream_key\": last_id}, block=0, count=10)\n",
    "    for _, items in events:\n",
    "        for eid, e in items:\n",
    "            print(f\"event[{eid}] {e}\")"
   ]
  }
 ],
 "metadata": {
  "kernelspec": {
   "display_name": "Python 3",
   "language": "python",
   "name": "python3"
  },
  "language_info": {
   "codemirror_mode": {
    "name": "ipython",
    "version": 3
   },
   "file_extension": ".py",
   "mimetype": "text/x-python",
   "name": "python",
   "nbconvert_exporter": "python",
   "pygments_lexer": "ipython3",
   "version": "3.6.8"
  }
 },
 "nbformat": 4,
 "nbformat_minor": 5
}
